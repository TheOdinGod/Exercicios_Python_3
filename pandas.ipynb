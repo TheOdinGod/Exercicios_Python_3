{
  "nbformat": 4,
  "nbformat_minor": 0,
  "metadata": {
    "colab": {
      "provenance": [],
      "authorship_tag": "ABX9TyO7aKW1stgfuftBVf9Gn2PY",
      "include_colab_link": true
    },
    "kernelspec": {
      "name": "python3",
      "display_name": "Python 3"
    },
    "language_info": {
      "name": "python"
    }
  },
  "cells": [
    {
      "cell_type": "markdown",
      "metadata": {
        "id": "view-in-github",
        "colab_type": "text"
      },
      "source": [
        "<a href=\"https://colab.research.google.com/github/TheOdinGod/Exercicios_Python_3/blob/main/pandas.ipynb\" target=\"_parent\"><img src=\"https://colab.research.google.com/assets/colab-badge.svg\" alt=\"Open In Colab\"/></a>"
      ]
    },
    {
      "cell_type": "code",
      "execution_count": null,
      "metadata": {
        "colab": {
          "base_uri": "https://localhost:8080/"
        },
        "id": "4uW6vVyjbSmS",
        "outputId": "06638b16-7397-4c46-fcf5-56ba8cc1a557"
      },
      "outputs": [
        {
          "output_type": "stream",
          "name": "stdout",
          "text": [
            "Erro: O arquivo 'vendas_de_ingressos.csv' não foi encontrado.\n",
            "\n",
            "Quantidade de linhas e colunas:\n",
            "(0, 0)\n",
            "\n",
            "O DataFrame está vazio.\n"
          ]
        }
      ],
      "source": [
        "import pandas as pd\n",
        "\n",
        "# Tentar carregar o arquivo CSV, tratando erros caso não exista\n",
        "try:\n",
        "    df = pd.read_csv('vendas_de_ingressos.csv')\n",
        "except FileNotFoundError:\n",
        "    print(\"Erro: O arquivo 'vendas_de_ingressos.csv' não foi encontrado.\")\n",
        "    df = pd.DataFrame()  # Criar um DataFrame vazio para evitar erros\n",
        "\n",
        "# 1. Exibir a quantidade de linhas e colunas do data frame.\n",
        "print(\"\\nQuantidade de linhas e colunas:\")\n",
        "print(df.shape)\n",
        "\n",
        "# 2. Exibir as 7 primeiras linhas do data frame (se houver dados).\n",
        "if not df.empty:\n",
        "    print(\"\\nPrimeiras 7 linhas:\")\n",
        "    print(df.head(7))\n",
        "else:\n",
        "    print(\"\\nO DataFrame está vazio.\")\n",
        "\n",
        "# 3. Exibir as 10 últimas linhas do data frame.\n",
        "if not df.empty:\n",
        "    print(\"\\nÚltimas 10 linhas:\")\n",
        "    print(df.tail(10))\n",
        "\n",
        "# 4. Renomear as colunas de forma permanente:\n",
        "if not df.empty:\n",
        "    df = df.rename(columns={\n",
        "        'Age': 'Idade',\n",
        "        'Ticket_Price': 'Preco_do_Ingresso',\n",
        "        'Movie_Genre': 'Genero',\n",
        "        'Seat_Type': 'Tipo_de_Assento',\n",
        "        'Number_of_Person': 'Numero_de_Pessoas',\n",
        "        'Purchase_Again': 'Compraria_Novamente'\n",
        "    })\n",
        "\n",
        "# 5. Resumo estatístico dos dados numéricos.\n",
        "if not df.empty:\n",
        "    print(\"\\nResumo estatístico:\")\n",
        "    print(df.describe())\n",
        "\n",
        "# 6. Filtrar os dados por gênero (exemplo: Action).\n",
        "if not df.empty:\n",
        "    print(\"\\nDados filtrados por gênero (exemplo: Action):\")\n",
        "    print(df[df['Genero'] == 'Action'])\n",
        "\n",
        "# 7. Exibir os dados das linhas 12 a 20 (inclusive).\n",
        "if not df.empty:\n",
        "    print(\"\\nDados das linhas 12 a 20:\")\n",
        "    print(df.iloc[11:21])\n",
        "\n",
        "# 8. Exibir os dados das linhas 35, 38, 42 e 50.\n",
        "if not df.empty:\n",
        "    print(\"\\nDados das linhas 35, 38, 42 e 50:\")\n",
        "    print(df.iloc[[34, 37, 41, 49]])\n",
        "\n",
        "# 9. Exibir os dados em que o tipo de assento é Standard.\n",
        "if not df.empty:\n",
        "    print(\"\\nDados com tipo de assento Standard:\")\n",
        "    print(df[df['Tipo_de_Assento'] == 'Standard'])\n",
        "\n",
        "# 10. Exibir os dados em que as idades dos consumidores estão entre 20 e 45 anos.\n",
        "if not df.empty:\n",
        "    print(\"\\nDados com idade entre 20 e 45 anos:\")\n",
        "    print(df[(df['Idade'] >= 20) & (df['Idade'] <= 45)])\n",
        "\n",
        "# 11. Criar um novo DataFrame em que o gênero dos filmes assistidos é Comedy.\n",
        "if not df.empty:\n",
        "    df_comedy = df[df['Genero'] == 'Comedy']\n",
        "    print(\"\\nNovo DataFrame com gênero Comedy:\")\n",
        "    print(df_comedy)\n",
        "\n",
        "# 12. Criar um novo DataFrame exibindo os registros de Preço do Ingresso, Gênero e Tipo de Assento nos clientes que comprariam novamente.\n",
        "if not df.empty:\n",
        "    df_compraria_novamente = df[df['Compraria_Novamente'] == 'Yes'][['Preco_do_Ingresso', 'Genero', 'Tipo_de_Assento']]\n",
        "    print(\"\\nDataFrame com Preço do Ingresso, Gênero e Tipo de Assento para clientes que comprariam novamente:\")\n",
        "    print(df_compraria_novamente)\n",
        "\n",
        "# 13. Criar uma nova Series filtrando os dados pelo Tipo de Assento.\n",
        "if not df.empty:\n",
        "    series_tipo_assento = df['Tipo_de_Assento']\n",
        "    print(\"\\nNova Series com Tipo de Assento:\")\n",
        "    print(series_tipo_assento)\n",
        "\n",
        "# 14. Exibir os dados antes de excluir a coluna Ticket_ID\n",
        "if not df.empty:\n",
        "    print(\"\\nDataFrame antes de excluir a coluna 'Ticket_ID':\")\n",
        "    print(df.head())\n",
        "\n",
        "# 15. Excluir a coluna Ticket_ID de forma permanente.\n",
        "if not df.empty and 'Ticket_ID' in df.columns:\n",
        "    df = df.drop('Ticket_ID', axis=1)\n",
        "\n",
        "# 16. Verificar a quantidade de valores nulos no dataset.\n",
        "if not df.empty:\n",
        "    print(\"\\nQuantidade de valores nulos:\")\n",
        "    print(df.isnull().sum())\n",
        "\n",
        "# 17. Verificar a quantidade de valores NaN no dataset.\n",
        "if not df.empty:\n",
        "    print(\"\\nQuantidade de valores NaN:\")\n",
        "    print(df.isna().sum())\n",
        "\n",
        "# 18. Utilizar o método iloc para exibir as linhas 15 a 20 e as colunas Idade, Preço_do_Ingresso e Gênero.\n",
        "if not df.empty:\n",
        "    print(\"\\nLinhas 15 a 20, colunas Idade, Preço_do_Ingresso e Gênero:\")\n",
        "    print(df.iloc[14:20, df.columns.get_indexer(['Idade', 'Preco_do_Ingresso', 'Genero'])])\n",
        "\n",
        "# 19. Utilizar o método iloc para exibir as linhas 3, 8, 10 e 13 e as colunas Gênero e Número de Pessoas.\n",
        "if not df.empty:\n",
        "    print(\"\\nLinhas 3, 8, 10 e 13, colunas Gênero e Número de Pessoas:\")\n",
        "    print(df.iloc[[2, 7, 9, 12], df.columns.get_indexer(['Genero', 'Numero_de_Pessoas'])])"
      ]
    }
  ]
}